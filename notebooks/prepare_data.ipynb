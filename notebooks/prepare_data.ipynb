{
 "cells": [
  {
   "cell_type": "markdown",
   "id": "67f1328a",
   "metadata": {},
   "source": [
    "# 1. Introduction\n",
    "In this notebook we prepare a movie database using data from the following two data source:\n",
    "    \n",
    "* [48.000+ movies](https://www.kaggle.com/datasets/yashgupta24/48000-movies-dataset) under [public domain license](https://creativecommons.org/publicdomain/zero/1.0/)\n",
    "* [Movie Plots](https://www.kaggle.com/datasets/jrobischon/wikipedia-movie-plots) under [creative commons license](https://creativecommons.org/licenses/by-sa/4.0/)\n"
   ]
  },
  {
   "cell_type": "markdown",
   "id": "d3e567a8",
   "metadata": {},
   "source": [
    "# 2. Imports"
   ]
  },
  {
   "cell_type": "code",
   "execution_count": 184,
   "id": "1809c336",
   "metadata": {},
   "outputs": [],
   "source": [
    "# Installing weaviate vector database\n",
    "#!pip install weaviate-client"
   ]
  },
  {
   "cell_type": "code",
   "execution_count": 185,
   "id": "1a5842f7",
   "metadata": {},
   "outputs": [],
   "source": [
    "# Importing libraries\n",
    "import json\n",
    "import numpy as np\n",
    "import pandas as pd\n",
    "import matplotlib.pyplot as plt\n",
    "import weaviate\n",
    "from sklearn.feature_extraction.text import TfidfVectorizer\n",
    "from tqdm import tqdm"
   ]
  },
  {
   "cell_type": "code",
   "execution_count": 186,
   "id": "f7f55302",
   "metadata": {},
   "outputs": [],
   "source": [
    "# Allows printout of full numpy array\n",
    "np.set_printoptions(threshold=np.inf)"
   ]
  },
  {
   "cell_type": "markdown",
   "id": "34ee5d2a",
   "metadata": {},
   "source": [
    "# 3. Loading Data"
   ]
  },
  {
   "cell_type": "code",
   "execution_count": 187,
   "id": "eee1f2ad",
   "metadata": {},
   "outputs": [],
   "source": [
    "# Loading movie data\n",
    "movie_data = pd.read_csv(\n",
    "    filepath_or_buffer = \"../data/movie_data.csv\", \n",
    "    usecols = ['id', 'Name', 'PosterLink', 'Genres', 'Actors', \n",
    "               'Director','Description', 'DatePublished', 'Keywords'], \n",
    "    parse_dates = [\"DatePublished\"]\n",
    ")\n",
    "\n",
    "# Keeping only movies from >1970\n",
    "movie_data[\"year\"] = movie_data[\"DatePublished\"].dt.year.fillna(0).astype(int)\n",
    "movie_data.drop([\"DatePublished\"], axis=1, inplace=True)\n",
    "movie_data = movie_data[movie_data.year > 1970]"
   ]
  },
  {
   "cell_type": "code",
   "execution_count": 188,
   "id": "94f5ca34",
   "metadata": {},
   "outputs": [],
   "source": [
    "# Loading movie plots\n",
    "movie_plots = pd.read_csv('../data/movie_plots.csv')\n",
    "\n",
    "# Keeping only movies from >1970\n",
    "movie_plots = movie_plots[movie_plots['Release Year'] > 1970]\n",
    "movie_plots = movie_plots[movie_plots.duplicated(subset=['Title', 'Release Year', 'Plot']) == False]\n",
    "movie_plots = movie_plots[movie_plots.duplicated(subset=['Title', 'Release Year']) == False]\n",
    "movie_plots = movie_plots[['Title', 'Plot', 'Release Year']]\n",
    "movie_plots.columns = ['Name', 'Plot', 'year']"
   ]
  },
  {
   "cell_type": "code",
   "execution_count": 189,
   "id": "97a42b45",
   "metadata": {},
   "outputs": [],
   "source": [
    "# Joining data\n",
    "data = movie_data.merge(movie_plots, on=['Name', 'year'], how='left').fillna('')\n",
    "data.reset_index(drop=True, inplace=True)"
   ]
  },
  {
   "cell_type": "code",
   "execution_count": 190,
   "id": "5b15ddfa",
   "metadata": {},
   "outputs": [
    {
     "data": {
      "image/png": "[encoded data removed]",
      "text/plain": [
       "<Figure size 400x400 with 1 Axes>"
      ]
     },
     "metadata": {},
     "output_type": "display_data"
    }
   ],
   "source": [
    "# Count missing and non-missing values in the \"Plot\" column\n",
    "missing_values = (data['Plot'] == '').sum()\n",
    "existing_values = (data['Plot'] != '').sum()\n",
    "\n",
    "# Plot the number of missing and existing values for the \"Plot\" column\n",
    "plt.figure(figsize=(4, 4))\n",
    "plt.bar(['Missing Values', 'Existing Values'], [missing_values, existing_values], color=['red', 'green'])\n",
    "\n",
    "# Add labels and title\n",
    "plt.title('Number of Missing Plots')\n",
    "plt.ylabel('Number of Values')\n",
    "\n",
    "# Show the plot\n",
    "plt.show()"
   ]
  },
  {
   "cell_type": "markdown",
   "id": "a1955181",
   "metadata": {},
   "source": [
    "# 4. Embeddings\n",
    "Embeddings are can used to calculated the similarity between texts. Embeddings are vector representations of texts, and these can be made in [numerous ways](https://lena-voita.github.io/nlp_course/word_embeddings.html). The most common types of embeddings used to be based on normalized word counts, but today it is possible to make much more fancy contextual embeddings. These fancy embedding make it possible to differentiate e.g. between the word **lost** is these two sentences \"I have **lost** my keys\" and \"I feel **lost**\".\n",
    "\n",
    "Here we will use [ChatGPT's fancy embeddings](https://platform.openai.com/docs/guides/embeddings/what-are-embeddings). Access to these requires a payed subscription to OpenAI, such that an [API key](https://platform.openai.com/docs/api-reference/introduction) can be acquired.\n",
    "\n",
    "As ChatGPT has a waiting list, we will start out by using a simple count vectorizer, that can be replaced later."
   ]
  },
  {
   "cell_type": "code",
   "execution_count": 191,
   "id": "2a9a550c",
   "metadata": {},
   "outputs": [],
   "source": [
    "# Combining texts\n",
    "data['text'] = data['Description'] + data['Plot']"
   ]
  },
  {
   "cell_type": "markdown",
   "id": "6d8864b4",
   "metadata": {},
   "source": [
    "## 4.1 Simple Embeddings"
   ]
  },
  {
   "cell_type": "code",
   "execution_count": 192,
   "id": "7b65e8d8",
   "metadata": {},
   "outputs": [],
   "source": [
    "# Creating a TfidfVectorizer instance\n",
    "vectorizer = TfidfVectorizer(max_features=30)"
   ]
  },
  {
   "cell_type": "code",
   "execution_count": 193,
   "id": "6ae0cb9e",
   "metadata": {},
   "outputs": [],
   "source": [
    "# Fitting and transforming the text data\n",
    "X = vectorizer.fit_transform(data['text'])"
   ]
  },
  {
   "cell_type": "code",
   "execution_count": 194,
   "id": "ad723a87",
   "metadata": {},
   "outputs": [
    {
     "name": "stdout",
     "output_type": "stream",
     "text": [
      "[[0.         0.         0.18029177 0.         0.         0.\n",
      "  0.         0.38922591 0.         0.40183148 0.         0.\n",
      "  0.         0.         0.         0.         0.17900529 0.1933632\n",
      "  0.25460339 0.         0.         0.1790236  0.         0.\n",
      "  0.         0.44085133 0.54210246 0.         0.         0.        ]]\n"
     ]
    }
   ],
   "source": [
    "# Checking out the first vector\n",
    "a = X[100].toarray();type(a)\n",
    "print(a) "
   ]
  },
  {
   "cell_type": "code",
   "execution_count": 195,
   "id": "078ef822",
   "metadata": {},
   "outputs": [],
   "source": [
    "# Adding embeddings to Dataframe\n",
    "dense_array = X.toarray()\n",
    "data['vector'] = pd.DataFrame({\"vector\": list(dense_array)})"
   ]
  },
  {
   "cell_type": "markdown",
   "id": "70e1d0e1",
   "metadata": {},
   "source": [
    "# 5. Vector Database\n",
    "We will here store the vectors in a vector database, which is efficient for several vector operations such as lookups and finding similar vectors. We are going to use the open-source database [Weaviate](https://weaviate.io/)."
   ]
  },
  {
   "cell_type": "code",
   "execution_count": 196,
   "id": "8c540710",
   "metadata": {},
   "outputs": [
    {
     "name": "stdout",
     "output_type": "stream",
     "text": [
      "Recreating moviesearch-weaviate-1 ... \n",
      "\u001b[1Beating moviesearch-weaviate-1 ... \u001b[32mdone\u001b[0m"
     ]
    }
   ],
   "source": [
    "# Starting Weaviate docker container in background\n",
    "!cd ../ && docker-compose up -d"
   ]
  },
  {
   "cell_type": "code",
   "execution_count": 197,
   "id": "7a88115d",
   "metadata": {},
   "outputs": [],
   "source": [
    "# Setting up client\n",
    "client = weaviate.Client(url=\"http://localhost:8080\")"
   ]
  },
  {
   "cell_type": "markdown",
   "id": "68336207",
   "metadata": {},
   "source": [
    "## 5.1 Adding Data to Database\n",
    "Here we use our [custom vectors](https://weaviate.io/developers/weaviate/tutorials/custom-vectors), but it is also possible to just let weaviate created the vectors for one using an [external vectorizers](https://weaviate.io/developers/weaviate/modules/retriever-vectorizer-modules) as OpenAI or Huggingface."
   ]
  },
  {
   "cell_type": "code",
   "execution_count": 198,
   "id": "d7647ee6",
   "metadata": {},
   "outputs": [],
   "source": [
    "# Defining a data collection\n",
    "movie_class_schema = {\n",
    "    \"class\": \"Movies\",\n",
    "    \"description\": \"A collection of movies since 1970.\",\n",
    "    \"vectorIndexConfig\": {\"distance\" : \"cosine\"},\n",
    "}"
   ]
  },
  {
   "cell_type": "code",
   "execution_count": 199,
   "id": "36e25296",
   "metadata": {},
   "outputs": [],
   "source": [
    "# Defining schemas for columns, and which to vectorize\n",
    "movie_class_schema[\"properties\"] = [\n",
    "        {\n",
    "            \"name\": \"movie_id\",\n",
    "            \"dataType\": [\"number\"],\n",
    "            \"description\": \"The id of the movie\",        \n",
    "        },\n",
    "        {\n",
    "            \"name\": \"title\",\n",
    "            \"dataType\": [\"text\"],\n",
    "            \"description\": \"The name of the movie\",   \n",
    "        },\n",
    "        {\n",
    "            \"name\": \"year\",\n",
    "            \"dataType\": [\"number\"],\n",
    "            \"description\": \"The year in which movie was published\",   \n",
    "        },\n",
    "        {\n",
    "            \"name\": \"poster_link\",\n",
    "            \"dataType\": [\"text\"],\n",
    "            \"description\": \"The poster link of the movie\",  \n",
    "        },\n",
    "        {\n",
    "            \"name\": \"genres\",\n",
    "            \"dataType\": [\"text\"],\n",
    "            \"description\": \"The genres of the movie\",\n",
    "        },\n",
    "        {\n",
    "            \"name\": \"actors\",\n",
    "            \"dataType\": [\"text\"],\n",
    "            \"description\": \"The actors of the movie\",  \n",
    "        },\n",
    "        {\n",
    "            \"name\": \"director\",\n",
    "            \"dataType\": [\"text\"],\n",
    "            \"description\": \"Director of the movie\",\n",
    "        },\n",
    "        {\n",
    "            \"name\": \"description\",\n",
    "            \"dataType\": [\"text\"],\n",
    "            \"description\": \"overview of the movie\",\n",
    "            \"vectorize\": True\n",
    "        },\n",
    "        {\n",
    "            \"name\": \"Plot\",\n",
    "            \"dataType\": [\"text\"],\n",
    "            \"description\": \"Plot of the movie from Wikipedia\",\n",
    "            \"vectorize\": True\n",
    "        },\n",
    "        {\n",
    "            \"name\": \"keywords\",\n",
    "            \"dataType\": [\"text\"],\n",
    "            \"description\": \"main keywords of the movie\", \n",
    "        },\n",
    "]"
   ]
  },
  {
   "cell_type": "code",
   "execution_count": 200,
   "id": "c5a63d9e",
   "metadata": {},
   "outputs": [],
   "source": [
    "# Deleting class if exists\n",
    "current_schemas = client.schema.get()['classes']\n",
    "for schema in current_schemas:\n",
    "    if schema['class']=='Movies':\n",
    "        client.schema.delete_class('Movies')\n",
    "        \n",
    "# Creating class\n",
    "client.schema.create_class(movie_class_schema)"
   ]
  },
  {
   "cell_type": "code",
   "execution_count": 201,
   "id": "7bc6a808",
   "metadata": {},
   "outputs": [
    {
     "data": {
      "text/plain": [
       "<weaviate.batch.crud_batch.Batch at 0x7fd063a53bb0>"
      ]
     },
     "execution_count": 201,
     "metadata": {},
     "output_type": "execute_result"
    }
   ],
   "source": [
    "# Configure batch process - for faster imports \n",
    "client.batch.configure(\n",
    "  batch_size=10, \n",
    "  dynamic=True,   # dynamically update the `batch_size` based on import speed\n",
    "  timeout_retries=3,\n",
    ")"
   ]
  },
  {
   "cell_type": "code",
   "execution_count": 202,
   "id": "6d4b7955",
   "metadata": {},
   "outputs": [
    {
     "name": "stderr",
     "output_type": "stream",
     "text": [
      "100%|████████████████████████████████████████████████████████████████████████| 39115/39115 [00:33<00:00, 1168.83it/s]\n"
     ]
    },
    {
     "name": "stdout",
     "output_type": "stream",
     "text": [
      "{'data': {'Aggregate': {'Movies': [{'meta': {'count': 37235}}]}}}\n"
     ]
    }
   ],
   "source": [
    "# Importing the data\n",
    "for i in tqdm(range(len(data))):\n",
    "    item = data.iloc[i]\n",
    "\n",
    "    movie_object = {\n",
    "        'movie_id':float(item['id']),\n",
    "        'title': str(item['Name']).lower(),\n",
    "        'year': int(item['year']),\n",
    "        'poster_link': str(item['PosterLink']),\n",
    "        'genres':str(item['Genres']),\n",
    "        'actors': str(item['Actors']).lower(),\n",
    "        'director': str(item['Director']).lower(),\n",
    "        'description':str(item['Description']),\n",
    "        'plot': str(item['Plot']),\n",
    "        'keywords': str(item['Keywords']),\n",
    "    }\n",
    "\n",
    "    try:\n",
    "        client.batch.add_data_object(movie_object, \"Movies\", vector=item[\"vector\"])\n",
    "    except BaseException as error:\n",
    "        print(\"Import Failed at: \",i)\n",
    "        print(\"An exception occurred: {}\".format(error))\n",
    "        # Stop the import on error\n",
    "        break\n",
    "\n",
    "print(client.query.aggregate(\"Movies\").with_meta_count().do())\n",
    "client.batch.flush()"
   ]
  },
  {
   "cell_type": "markdown",
   "id": "d7508fa2",
   "metadata": {},
   "source": [
    "## 5.2 Making Example Lookups"
   ]
  },
  {
   "cell_type": "code",
   "execution_count": 203,
   "id": "abae20c1",
   "metadata": {},
   "outputs": [
    {
     "name": "stdout",
     "output_type": "stream",
     "text": [
      "{\n",
      "    \"data\": {\n",
      "        \"Get\": {\n",
      "            \"Movies\": [\n",
      "                {\n",
      "                    \"_additional\": {\n",
      "                        \"vector\": [\n",
      "                            0,\n",
      "                            0.065487824,\n",
      "                            0.14579736,\n",
      "                            0,\n",
      "                            0.25726745,\n",
      "                            0.037869398,\n",
      "                            0.07743622,\n",
      "                            0.034973007,\n",
      "                            0.06796947,\n",
      "                            0.10831695,\n",
      "                            0.11728534,\n",
      "                            0.07042402,\n",
      "                            0,\n",
      "                            0,\n",
      "                            0.030502146,\n",
      "                            0.17687982,\n",
      "                            0.048252337,\n",
      "                            0.01737421,\n",
      "                            0.25164488,\n",
      "                            0.06692125,\n",
      "                            0,\n",
      "                            0.016085757,\n",
      "                            0.28878626,\n",
      "                            0.71944547,\n",
      "                            0.114080526,\n",
      "                            0.15844676,\n",
      "                            0.34096566,\n",
      "                            0.037746206,\n",
      "                            0.069540076,\n",
      "                            0\n",
      "                        ]\n",
      "                    },\n",
      "                    \"movie_id\": 10933,\n",
      "                    \"plot\": \"Based on historic events, this dramatic film concerns the 1939 voyage of the MS St. Louis, which departed from Hamburg carrying 937 Jews from Germany, ostensibly bound for Havana, Cuba. The passengers, having seen and suffered rising anti-Semitism in Germany, realised this might be their only chance to escape. The film details the emotional journey of the passengers, who gradually become aware that their passage was planned as an exercise in propaganda, and that it had never been intended that they disembark in Cuba. Rather, they were to be set up as pariahs, to set an example before the world. As a Nazi official states in the film, when the whole world has refused to accept the Jews as refugees, no country can blame Germany for their fate.\\r\\nThe Cuban government refuses entry to the passengers, and the liner heads to the United States. As it waits off the Florida coast, the passengers learn that the United States also has rejected them, leaving the captain no choice but to return to Europe. The captain tells a confidante that he has received a letter signed by 200 passengers saying they will join hands and jump into the sea rather than return to Germany. He states his intention to run the liner aground on a reef off the southern coast of England, to allow the passengers to be rescued and reach safety there.\\r\\nShortly before the film's end, it is revealed that the governments of Belgium, France, the Netherlands, and the United Kingdom have each agreed to accept a share of the passengers as refugees. As they cheer and clap at the news, footnotes disclose the fates of some of the main characters, suggesting that more than 600 of the 937 passengers, who did not resettle in the United Kingdom but in the other European nations, ultimately were deported and died in Nazi concentration camps.\",\n",
      "                    \"title\": \"voyage of the damned\"\n",
      "                },\n",
      "                {\n",
      "                    \"_additional\": {\n",
      "                        \"vector\": [\n",
      "                            0.016545022,\n",
      "                            0.07068548,\n",
      "                            0.21681957,\n",
      "                            0.017120564,\n",
      "                            0.12694232,\n",
      "                            0.08175006,\n",
      "                            0.05014932,\n",
      "                            0.030199004,\n",
      "                            0.11738255,\n",
      "                            0.09353111,\n",
      "                            0.20255053,\n",
      "                            0.1520269,\n",
      "                            0.3776283,\n",
      "                            0.0519986,\n",
      "                            0.05267688,\n",
      "                            0.17455404,\n",
      "                            0.111108355,\n",
      "                            0.0075012688,\n",
      "                            0.187663,\n",
      "                            0.11557229,\n",
      "                            0.41306606,\n",
      "                            0.006944983,\n",
      "                            0.18702406,\n",
      "                            0.38827333,\n",
      "                            0.016417988,\n",
      "                            0.068408966,\n",
      "                            0.47317827,\n",
      "                            0.048890468,\n",
      "                            0.075059354,\n",
      "                            0.04161962\n",
      "                        ]\n",
      "                    },\n",
      "                    \"movie_id\": 29754,\n",
      "                    \"plot\": \"In 1935 England, Briony Tallis is a 13-year-old from a wealthy family. She has just completed writing her first play to mark her brother's homecoming and plans to stage it later that day with her visiting cousins.\\r\\nLooking out of her bedroom window, she spies on her older sister, Cecilia, and the housekeeper's son, Robbie Turner, on whom Briony has a crush. Cecilia is undressing and dips into the fountain pool; a moment later, she climbs out, her undergarments wet, all while Robbie watches. Cecilia had gone to the pond to fill a vase, Robbie grabbed one of the handles, and it broke. A part fell into the pond, and Cecilia jumped in to retrieve it.\\r\\nRobbie drafts a series of notes to Cecilia apologising for the incident. One contains an explicit expression of his sexual desire for her, including the word \\\"cunt\\\": he writes it only as a joke, and it makes him laugh to himself. He writes another, more formal letter, and asks Briony to deliver it. Only after she has gone does he realise he has given her the explicit letter.\\r\\nBriony reads the letter before giving it to Cecilia. Later, she describes it to her older visiting cousin, Lola, who calls Robbie a \\\"sex maniac\\\". Paul Marshall, a visiting friend of Briony's older brother's and a chocolate magnate, introduces himself to the visiting cousins and appears to be attracted to Lola.\\r\\nBefore dinner, Robbie apologises for the obscene letter, and Cecilia confesses her love for him. They are making love in the library when Briony walks in, and thinks that Cecilia is under attack. Cecilia and Robbie try to pass the incident off.\\r\\nAt dinner, Briony finds that Lola's twin brothers have run away, and Paul calls for a search of the estate grounds. In the course of it, Briony glimpses Lola being raped by a man. She goes to Lola, and they make statements to one another that appear to establish Robbie as the culprit. The belief is sustained during police questioning, and the earlier note is seen as corroborative evidence. Robbie's arrest and imprisonment follow.\\r\\nAbout four years later, during World War II, Robbie has been released from prison on condition that he join the army, and is fighting in the Battle of France. Separated from his unit, he is making his way on foot to Dunkirk, all the while thinking of his meeting with Cecilia in London six months earlier: they had renewed their love before she returned to her work as a nurse, and he set off to the French front.\\r\\nBriony, now 18, has chosen to join Cecilia's old nursing unit at St Thomas' Hospital in London rather than go to the University of Cambridge, because she wants to be of \\\"practical use to society\\\". She writes to her sister, but Cecilia has not forgiven her for lying in the investigation years before.\\r\\nRobbie, who is falling gravely ill from an infected wound, finally arrives at the beaches of Dunkirk, where he waits to be evacuated.\\r\\nLater, Briony\\u2014who now regrets her lie\\u2014learns from a newsreel that Paul Marshall, who owns a factory supplying rations to the British army, is about to be married to Lola. Briony goes to the ceremony, and as the priest asks if anyone objects to the union, she recalls seeing Paul assault Lola. However, she remains silent. As Paul and Lola leave the church, they glance at Briony, but also say nothing.\\r\\nAfterwards, Briony visits Cecilia to apologise to her directly. She is surprised to find her sister with Robbie, who is in London on leave. Briony apologises for her deceit, but Robbie is enraged that she has still not accepted responsibility for her actions, when soldiers younger than she have died in the war. Cecilia calms him down, and the couple ask Briony to confess and to have the legal record rectified. Briony agrees. However, she also has to tell them that Paul has married Lola. He is now most unlikely to be punished, as Lola will be unable to testify against her husband, and Briony will be regarded as an unreliable witness.\\r\\nBriony is now elderly and a successful novelist, giving an interview about her latest book that will cap her career; she is now dying of vascular dementia. She says that this autobiographical novel, entitled Atonement, has been very difficult to write, because she did not know how to approach what she had done to Robbie and Cecilia. She has worked on it from the very beginning of her career. She confesses that the scene in the book describing her visit and apology to Cecilia and Robbie was entirely imaginary.\\r\\nCecilia and Robbie were never reunited: Robbie died of septicaemia at Dunkirk on the morning of the day he was to be evacuated, and Cecilia drowned months later in the Balham tube station bombing during the Blitz. Briony hopes to give the two, in fiction, the happiness that she robbed them of in real life. The last scene shows an imagined, happily reunited Cecilia and Robbie living on in a house by the sea.\",\n",
      "                    \"title\": \"atonement\"\n",
      "                }\n",
      "            ]\n",
      "        }\n",
      "    }\n",
      "}\n"
     ]
    }
   ],
   "source": [
    "# Just listing some rows\n",
    "response = (\n",
    "    client.query\n",
    "    .get(\"Movies\", [\"movie_id\", \"title\", \"plot\"])\n",
    "    .with_additional(\"vector\")\n",
    "    .with_limit(2)\n",
    "    .do()\n",
    ")\n",
    "\n",
    "print(json.dumps(response, sort_keys=True, indent=4))"
   ]
  },
  {
   "cell_type": "code",
   "execution_count": 204,
   "id": "85a4293d",
   "metadata": {},
   "outputs": [
    {
     "name": "stdout",
     "output_type": "stream",
     "text": [
      "{\n",
      "    \"data\": {\n",
      "        \"Get\": {\n",
      "            \"Movies\": [\n",
      "                {\n",
      "                    \"title\": \"hitman hart: wrestling with shadows\"\n",
      "                },\n",
      "                {\n",
      "                    \"title\": \"blade: trinity\"\n",
      "                },\n",
      "                {\n",
      "                    \"title\": \"freaky friday\"\n",
      "                },\n",
      "                {\n",
      "                    \"title\": \"meadowland\"\n",
      "                },\n",
      "                {\n",
      "                    \"title\": \"blade ii\"\n",
      "                }\n",
      "            ]\n",
      "        }\n",
      "    }\n",
      "}\n"
     ]
    }
   ],
   "source": [
    "# Looking up a movie\n",
    "response = (\n",
    "    client.query\n",
    "    .get(\"Movies\", [\"title\"])\n",
    "    .with_bm25(\n",
    "      query=\"Blade\"\n",
    "    )\n",
    "    .with_limit(5)\n",
    "    .do()\n",
    ")\n",
    "\n",
    "print(json.dumps(response, sort_keys=True, indent=4))"
   ]
  }
 ],
 "metadata": {
  "kernelspec": {
   "display_name": "Python 3 (ipykernel)",
   "language": "python",
   "name": "python3"
  },
  "language_info": {
   "codemirror_mode": {
    "name": "ipython",
    "version": 3
   },
   "file_extension": ".py",
   "mimetype": "text/x-python",
   "name": "python",
   "nbconvert_exporter": "python",
   "pygments_lexer": "ipython3",
   "version": "3.8.10"
  }
 },
 "nbformat": 4,
 "nbformat_minor": 5
}
